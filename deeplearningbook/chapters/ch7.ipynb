{
 "cells": [
  {
   "cell_type": "markdown",
   "metadata": {},
   "source": [
    "```{important}\n",
    "Please note that using matrix multiplication, we can efficiently **evaluate in parallel** the outputs for the 5 examples at the same time.\n",
    "```"
   ]
  },
  {
   "cell_type": "markdown",
   "metadata": {},
   "source": [
    "<br>\n",
    "\n",
    "(1.4.2)=\n",
    "### 1.4.2 Calculate loss\n",
    "\n",
    "During evaluation, we used the average negative log likelihood to assess the quality of the generated words. During training, we will use it as a **loss function** to **evaluate the setting of the parameters** of the neural network.\n",
    "\n",
    "To compute the average negative log likelihood, we are now going to use the individual probabilities assigned by the neural network to the actual correct next characters. In this case,the individual probabilites would be:\n",
    "\n",
    "*probs[0, 5], probs[1, 13], probs[2, 13], probs[3, 1], and probs[4, 0]*\n",
    "\n",
    "We can retrieve these probabilities by indexing into the probability distributions at the indices corresponding to the correct labels.\n",
    "\n",
    "```{Note}\n",
    "The `torch.arange(n)*` function returns a one-dimensional tensor containing values [0, 1, 2, .., n-1]. [PyTorch Documentation](https://pytorch.org/docs/stable/generated/torch.arange.html).\n",
    "```"
   ]
  },
  {
   "cell_type": "markdown",
   "metadata": {},
   "source": [
    "```{Note}\n",
    "An **activation function** is a mathematical function that determines whether a node should \"fire\" and how strongly it should pass its signal onward. Some known activation functions are:\n",
    "<div style=\"width: 250px; margin: 0 auto;\">\n",
    "   <img src=\"https://raw.githubusercontent.com/danielsimon4/deep-learning-book/refs/heads/main/deeplearningbook/images/activation-functions.png\">\n",
    "</div>\n",
    "```"
   ]
  }
 ],
 "metadata": {
  "kernelspec": {
   "display_name": "venv",
   "language": "python",
   "name": "python3"
  },
  "language_info": {
   "codemirror_mode": {
    "name": "ipython",
    "version": 3
   },
   "file_extension": ".py",
   "mimetype": "text/x-python",
   "name": "python",
   "nbconvert_exporter": "python",
   "pygments_lexer": "ipython3",
   "version": "3.11.9"
  }
 },
 "nbformat": 4,
 "nbformat_minor": 2
}
